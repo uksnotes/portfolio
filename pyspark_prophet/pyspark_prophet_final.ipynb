{
 "cells": [
  {
   "cell_type": "markdown",
   "id": "327cb4e1",
   "metadata": {},
   "source": [
    "## Pyspark + Prophet 예측\n",
    "\n",
    "- jupyter/pyspark:python3.8.8에서 작성\n",
    "- 데이터 출처 (캐글 링크 | https://www.kaggle.com/datasets/uciml/electric-power-consumption-data-set)"
   ]
  },
  {
   "cell_type": "code",
   "execution_count": 1,
   "id": "fc5cc2e2",
   "metadata": {},
   "outputs": [
    {
     "name": "stderr",
     "output_type": "stream",
     "text": [
      "Importing plotly failed. Interactive plots will not work.\n"
     ]
    }
   ],
   "source": [
    "from pyspark.sql import SparkSession\n",
    "from pyspark.sql.types import *\n",
    "from pyspark.sql.functions import pandas_udf, PandasUDFType, sum, max, col, concat, lit\n",
    "import pyspark.sql\n",
    "from pyspark.sql.functions import *\t\n",
    "import pandas as pd\n",
    "from fbprophet import Prophet\n",
    "import pandas as pd\n",
    "import numpy as np\n",
    "import matplotlib.pyplot as plt"
   ]
  },
  {
   "cell_type": "code",
   "execution_count": 2,
   "id": "da5fddb9",
   "metadata": {},
   "outputs": [],
   "source": [
    "spark = (\n",
    "    SparkSession.builder\n",
    "    .master('local')\n",
    "    .appName('SparkML')\n",
    "    .config('spark.sql.execution.arrow.enable', 'true')\n",
    "    .getOrCreate()\n",
    ")\n",
    "sc = spark.sparkContext\n",
    "sc.setLogLevel('INFO')"
   ]
  },
  {
   "cell_type": "code",
   "execution_count": 3,
   "id": "cf1c8975",
   "metadata": {
    "scrolled": true
   },
   "outputs": [
    {
     "name": "stdout",
     "output_type": "stream",
     "text": [
      "+-------------------+-------------------+---------------------+-------+----------------+--------------+--------------+--------------+--------------+\n",
      "|           datetime|Global_active_power|Global_reactive_power|Voltage|Global_intensity|Sub_metering_1|Sub_metering_2|Sub_metering_3|sub_metering_4|\n",
      "+-------------------+-------------------+---------------------+-------+----------------+--------------+--------------+--------------+--------------+\n",
      "|2006-12-16 17:24:00|              4.216|                0.418| 234.84|            18.4|           0.0|           1.0|          17.0|      52.26667|\n",
      "|2006-12-16 17:25:00|               5.36|                0.436| 233.63|            23.0|           0.0|           1.0|          16.0|     72.333336|\n",
      "|2006-12-16 17:26:00|              5.374|                0.498| 233.29|            23.0|           0.0|           2.0|          17.0|     70.566666|\n",
      "|2006-12-16 17:27:00|              5.388|                0.502| 233.74|            23.0|           0.0|           1.0|          17.0|          71.8|\n",
      "|2006-12-16 17:28:00|              3.666|                0.528| 235.68|            15.8|           0.0|           1.0|          17.0|          43.1|\n",
      "|2006-12-16 17:29:00|               3.52|                0.522| 235.02|            15.0|           0.0|           2.0|          17.0|     39.666668|\n",
      "|2006-12-16 17:30:00|              3.702|                 0.52| 235.09|            15.8|           0.0|           1.0|          17.0|          43.7|\n",
      "|2006-12-16 17:31:00|                3.7|                 0.52| 235.22|            15.8|           0.0|           1.0|          17.0|     43.666668|\n",
      "|2006-12-16 17:32:00|              3.668|                 0.51| 233.99|            15.8|           0.0|           1.0|          17.0|     43.133335|\n",
      "|2006-12-16 17:33:00|              3.662|                 0.51| 233.86|            15.8|           0.0|           2.0|          16.0|     43.033333|\n",
      "|2006-12-16 17:34:00|              4.448|                0.498| 232.86|            19.6|           0.0|           1.0|          17.0|      56.13333|\n",
      "|2006-12-16 17:35:00|              5.412|                 0.47| 232.78|            23.2|           0.0|           1.0|          17.0|          72.2|\n",
      "|2006-12-16 17:36:00|              5.224|                0.478| 232.99|            22.4|           0.0|           1.0|          16.0|     70.066666|\n",
      "|2006-12-16 17:37:00|              5.268|                0.398| 232.91|            22.6|           0.0|           2.0|          17.0|          68.8|\n",
      "|2006-12-16 17:38:00|              4.054|                0.422| 235.24|            17.6|           0.0|           1.0|          17.0|     49.566666|\n",
      "|2006-12-16 17:39:00|              3.384|                0.282| 237.14|            14.2|           0.0|           0.0|          17.0|          39.4|\n",
      "|2006-12-16 17:40:00|               3.27|                0.152| 236.73|            13.8|           0.0|           0.0|          17.0|          37.5|\n",
      "|2006-12-16 17:41:00|               3.43|                0.156| 237.06|            14.4|           0.0|           0.0|          17.0|     40.166668|\n",
      "|2006-12-16 17:42:00|              3.266|                  0.0| 237.13|            13.8|           0.0|           0.0|          18.0|     36.433334|\n",
      "|2006-12-16 17:43:00|              3.728|                  0.0| 235.84|            16.4|           0.0|           0.0|          17.0|     45.133335|\n",
      "+-------------------+-------------------+---------------------+-------+----------------+--------------+--------------+--------------+--------------+\n",
      "only showing top 20 rows\n",
      "\n",
      "root\n",
      " |-- datetime: string (nullable = true)\n",
      " |-- Global_active_power: double (nullable = true)\n",
      " |-- Global_reactive_power: double (nullable = true)\n",
      " |-- Voltage: double (nullable = true)\n",
      " |-- Global_intensity: double (nullable = true)\n",
      " |-- Sub_metering_1: double (nullable = true)\n",
      " |-- Sub_metering_2: double (nullable = true)\n",
      " |-- Sub_metering_3: double (nullable = true)\n",
      " |-- sub_metering_4: double (nullable = true)\n",
      "\n"
     ]
    }
   ],
   "source": [
    "df = spark.read.csv('household_power_consumption.csv', header = True, inferSchema=True)\n",
    "df.show()\n",
    "df.printSchema()"
   ]
  },
  {
   "cell_type": "code",
   "execution_count": 4,
   "id": "a9b12e2a",
   "metadata": {
    "scrolled": false
   },
   "outputs": [
    {
     "name": "stdout",
     "output_type": "stream",
     "text": [
      "root\n",
      " |-- datetime: date (nullable = true)\n",
      " |-- Global_active_power: double (nullable = true)\n",
      " |-- Global_reactive_power: double (nullable = true)\n",
      " |-- Voltage: double (nullable = true)\n",
      " |-- Global_intensity: double (nullable = true)\n",
      " |-- Sub_metering_1: double (nullable = true)\n",
      " |-- Sub_metering_2: double (nullable = true)\n",
      " |-- Sub_metering_3: double (nullable = true)\n",
      " |-- sub_metering_4: double (nullable = true)\n",
      "\n"
     ]
    }
   ],
   "source": [
    "df = df.withColumn('datetime', to_date('datetime'))\n",
    "df.printSchema()"
   ]
  },
  {
   "cell_type": "code",
   "execution_count": 5,
   "id": "f8f86f3d",
   "metadata": {},
   "outputs": [],
   "source": [
    "# 날짜 별 global_active_power 출력\n",
    "df = (\n",
    "    df\n",
    "    .groupby('datetime')\n",
    "    .agg({\n",
    "        'Global_active_power': 'sum'\n",
    "    })\n",
    ")"
   ]
  },
  {
   "cell_type": "code",
   "execution_count": 6,
   "id": "ab22725d",
   "metadata": {},
   "outputs": [
    {
     "name": "stdout",
     "output_type": "stream",
     "text": [
      "+----------+------------------------+\n",
      "|  datetime|sum(Global_active_power)|\n",
      "+----------+------------------------+\n",
      "|2006-12-16|      1209.1760000000006|\n",
      "|2006-12-17|                 3390.46|\n",
      "|2006-12-18|      2203.8259999999964|\n",
      "|2006-12-19|      1666.1940000000006|\n",
      "|2006-12-20|       2225.747999999999|\n",
      "|2006-12-21|      1723.2879999999993|\n",
      "|2006-12-22|      2341.3379999999993|\n",
      "|2006-12-23|       4773.385999999998|\n",
      "|2006-12-24|       2550.012000000007|\n",
      "|2006-12-25|      2743.1200000000053|\n",
      "|2006-12-26|                 3934.11|\n",
      "|2006-12-27|      1528.7600000000004|\n",
      "|2006-12-28|                2072.638|\n",
      "|2006-12-29|      3174.3919999999966|\n",
      "|2006-12-30|       2796.108000000001|\n",
      "|2006-12-31|      3494.1959999999995|\n",
      "|2007-01-01|       2749.004000000016|\n",
      "|2007-01-02|      1269.2360000000006|\n",
      "|2007-01-03|      1014.0540000000005|\n",
      "|2007-01-04|      3259.4119999999907|\n",
      "+----------+------------------------+\n",
      "only showing top 20 rows\n",
      "\n"
     ]
    }
   ],
   "source": [
    "df = df.sort('datetime')\n",
    "df.show()"
   ]
  },
  {
   "cell_type": "code",
   "execution_count": 7,
   "id": "6524f2e7",
   "metadata": {},
   "outputs": [
    {
     "name": "stdout",
     "output_type": "stream",
     "text": [
      "+----------+-------------------+\n",
      "|  datetime|Global_active_power|\n",
      "+----------+-------------------+\n",
      "|2006-12-16| 1209.1760000000006|\n",
      "|2006-12-17|            3390.46|\n",
      "|2006-12-18| 2203.8259999999964|\n",
      "|2006-12-19| 1666.1940000000006|\n",
      "|2006-12-20|  2225.747999999999|\n",
      "|2006-12-21| 1723.2879999999993|\n",
      "|2006-12-22| 2341.3379999999993|\n",
      "|2006-12-23|  4773.385999999998|\n",
      "|2006-12-24|  2550.012000000007|\n",
      "|2006-12-25| 2743.1200000000053|\n",
      "|2006-12-26|            3934.11|\n",
      "|2006-12-27| 1528.7600000000004|\n",
      "|2006-12-28|           2072.638|\n",
      "|2006-12-29| 3174.3919999999966|\n",
      "|2006-12-30|  2796.108000000001|\n",
      "|2006-12-31| 3494.1959999999995|\n",
      "|2007-01-01|  2749.004000000016|\n",
      "|2007-01-02| 1269.2360000000006|\n",
      "|2007-01-03| 1014.0540000000005|\n",
      "|2007-01-04| 3259.4119999999907|\n",
      "+----------+-------------------+\n",
      "only showing top 20 rows\n",
      "\n"
     ]
    }
   ],
   "source": [
    "# 이름 재정의\n",
    "df = df.withColumnRenamed('sum(Global_active_power)', 'Global_active_power')\n",
    "df.show()"
   ]
  },
  {
   "cell_type": "code",
   "execution_count": 8,
   "id": "2f8ad1f0",
   "metadata": {
    "scrolled": false
   },
   "outputs": [
    {
     "name": "stdout",
     "output_type": "stream",
     "text": [
      "+--------+-------------------+\n",
      "|datetime|Global_active_power|\n",
      "+--------+-------------------+\n",
      "|       0|                  0|\n",
      "+--------+-------------------+\n",
      "\n"
     ]
    }
   ],
   "source": [
    "# null 값 확인\n",
    "df.select(*(\n",
    "    sum(col(c).isNull().cast('int')).alias(c) for c in df.columns\n",
    ")).show()"
   ]
  },
  {
   "cell_type": "code",
   "execution_count": 9,
   "id": "c0ed1e5b",
   "metadata": {},
   "outputs": [],
   "source": [
    "# schema 정의\n",
    "schema = StructType([\n",
    "    StructField('ds', DateType(), True),\n",
    "    StructField('yhat', DoubleType(), True),\n",
    "#     StructField('Global_reactive_power', DoubleType(), True),\n",
    "#     StructField('Voltage', DoubleType(), True),\n",
    "#     StructField('Global_intensity', DoubleType(), True),\n",
    "#     StructField('Sub_metering_1', DoubleType(), True),\n",
    "#     StructField('Sub_metering_2', DoubleType(), True),\n",
    "#     StructField('Sub_metering_3', DoubleType(), True),\n",
    "#     StructField('sub_metering_4', DoubleType(), True),\n",
    "])"
   ]
  },
  {
   "cell_type": "code",
   "execution_count": 10,
   "id": "4a7dbc9e",
   "metadata": {},
   "outputs": [],
   "source": [
    "# 포함하지 않을 날짜 정의\n",
    "def getHoliday():\n",
    "    yeonyu = pd.DataFrame({\n",
    "        'holiday':'yeonyu',\n",
    "        'ds': pd.to_datetime(['2006-12-16', '2006-12-25', '2006-12-30']),\n",
    "        'lower_window': 0,\n",
    "        'upper_window': 1\n",
    "    })\n",
    "    vac = pd.DataFrame({\n",
    "        'holiday':'vac',\n",
    "        'ds': pd.to_datetime(['2006-12-20', '2007-12-25', '2008-12-30']),\n",
    "        'lower_window': 0,\n",
    "        'upper_window': 1\n",
    "    })\n",
    "    holiday = pd.concat((yeonyu, vac))\n",
    "    return holiday"
   ]
  },
  {
   "cell_type": "code",
   "execution_count": 11,
   "id": "e9bd21af",
   "metadata": {},
   "outputs": [],
   "source": [
    "# train test 분리 prophet model 돌리기 \n",
    "@pandas_udf(schema, PandasUDFType.GROUPED_MAP)\n",
    "def train_fit_map(df):\n",
    "    def train_fit_prophet(df, cutoff):\n",
    "        df[\"dt\"] = pd.to_datetime(df[\"dt\"])\n",
    "        train_ts = (df\n",
    "                    .query('dt <= @cutoff')\n",
    "                    .rename(columns = {'dt':'ds', 'Global_active_power':'y'})\n",
    "                    .assign(ds = lambda x: pd.to_datetime(x['ds']))\n",
    "                    .sort_values('ds')\n",
    "                   )\n",
    "        test_ts = (df\n",
    "                   .query('dt > @cutoff')\n",
    "                   .rename(columns = {'dt':'ds', 'Global_active_power':'y'})\n",
    "                   .drop('y', axis=1)\n",
    "                   .sort_values('ds')\n",
    "                   .assign(ds = lambda x: pd.to_datetime(x['ds']))\n",
    "                  )\n",
    "        holidays = getHoliday()\n",
    "        m = Prophet(yearly_seasonality=True,\n",
    "                    weekly_seasonality=True,\n",
    "                    daily_seasonality=True,\n",
    "                    holidays=holidays)\n",
    "        m.fit(train_ts)\n",
    "        ts_hat = (m.predict(test_ts)[['ds', 'yhat']]\n",
    "                 .assign(ds = lambda x: pd.to_datetime(x['ds']))\n",
    "                 ).merge(test_ts, on = ['ds'], how = 'left')\n",
    "        return pd.DataFrame(ts_hat, columns = schema.fieldNames())\n",
    "    return train_fit_prophet(df, cutoff)"
   ]
  },
  {
   "cell_type": "code",
   "execution_count": 12,
   "id": "4a7a0f9f",
   "metadata": {
    "scrolled": false
   },
   "outputs": [
    {
     "data": {
      "text/plain": [
       "'2009-12-01'"
      ]
     },
     "execution_count": 12,
     "metadata": {},
     "output_type": "execute_result"
    }
   ],
   "source": [
    "cutoff_index = int(df.count() * 0.75)\n",
    "df = df.withColumn('datetime', col('datetime').cast('String'))\n",
    "cutoff = df.select('datetime').collect()[cutoff_index][0]\n",
    "cutoff"
   ]
  },
  {
   "cell_type": "code",
   "execution_count": 13,
   "id": "536e54e9",
   "metadata": {},
   "outputs": [],
   "source": [
    "df = df.withColumnRenamed('datetime', 'dt')"
   ]
  },
  {
   "cell_type": "code",
   "execution_count": 14,
   "id": "cc61a26f",
   "metadata": {},
   "outputs": [
    {
     "name": "stderr",
     "output_type": "stream",
     "text": [
      "/usr/local/spark/python/pyspark/sql/pandas/group_ops.py:81: UserWarning: It is preferred to use 'applyInPandas' over this API. This API will be deprecated in the future releases. See SPARK-28264 for more details.\n",
      "  warnings.warn(\n"
     ]
    }
   ],
   "source": [
    "global_prediction = (df\n",
    "                     .groupBy()\n",
    "                     .apply(train_fit_map))"
   ]
  },
  {
   "cell_type": "code",
   "execution_count": 15,
   "id": "b5332330",
   "metadata": {
    "scrolled": true
   },
   "outputs": [
    {
     "name": "stdout",
     "output_type": "stream",
     "text": [
      "+----------+------------------+\n",
      "|        ds|              yhat|\n",
      "+----------+------------------+\n",
      "|2009-12-02|2013.0072510130535|\n",
      "|2009-12-03|1826.0035000376397|\n",
      "|2009-12-04|1944.4264796494003|\n",
      "|2009-12-05| 2241.565975240988|\n",
      "|2009-12-06| 2198.620180732972|\n",
      "|2009-12-07|1823.2991312273134|\n",
      "|2009-12-08| 1948.823449120789|\n",
      "|2009-12-09|1961.8823631516948|\n",
      "|2009-12-10|1788.5308196172155|\n",
      "|2009-12-11|1922.2696607216133|\n",
      "|2009-12-12|2235.8665600643203|\n",
      "|2009-12-13| 2209.972330075237|\n",
      "|2009-12-14|1851.7399853246163|\n",
      "|2009-12-15|1993.8393177574435|\n",
      "|2009-12-16|2022.4305029197494|\n",
      "|2009-12-17| 1863.076123177765|\n",
      "|2009-12-18|2008.8351688835064|\n",
      "|2009-12-19|  2332.09632415064|\n",
      "|2009-12-20| 2313.204810015334|\n",
      "|2009-12-21|1959.0898776468698|\n",
      "+----------+------------------+\n",
      "only showing top 20 rows\n",
      "\n"
     ]
    }
   ],
   "source": [
    "# 모델 예측 결과\n",
    "global_prediction.show(20)"
   ]
  },
  {
   "cell_type": "code",
   "execution_count": 16,
   "id": "f539cfdd",
   "metadata": {},
   "outputs": [
    {
     "name": "stdout",
     "output_type": "stream",
     "text": [
      "+----------+------------------+\n",
      "|        ds|            y_test|\n",
      "+----------+------------------+\n",
      "|2009-12-02| 2345.667999999997|\n",
      "|2009-12-03|1479.6880000000006|\n",
      "|2009-12-04|          1711.294|\n",
      "|2009-12-05|          2351.762|\n",
      "|2009-12-06|2378.2879999999986|\n",
      "|2009-12-07|          1742.638|\n",
      "|2009-12-08|2006.8840000000037|\n",
      "|2009-12-09|1802.3559999999977|\n",
      "|2009-12-10|2057.2560000000035|\n",
      "|2009-12-11|1784.4619999999998|\n",
      "|2009-12-12|1816.3799999999999|\n",
      "|2009-12-13|2138.8139999999953|\n",
      "|2009-12-14| 1794.862000000001|\n",
      "|2009-12-15|1940.1160000000034|\n",
      "|2009-12-16|1394.8740000000007|\n",
      "|2009-12-17|1717.1819999999968|\n",
      "|2009-12-18|1744.7059999999983|\n",
      "|2009-12-19| 2204.334000000001|\n",
      "|2009-12-20|1144.1659999999993|\n",
      "|2009-12-21|2034.9659999999997|\n",
      "+----------+------------------+\n",
      "only showing top 20 rows\n",
      "\n"
     ]
    }
   ],
   "source": [
    "# MAE 진행을 위한 test_df 값 정리 \n",
    "test_df = (\n",
    "    df\n",
    "    .select(col('dt').alias('ds'), col('Global_active_power').alias('y_test'))\n",
    "    .where('dt > \"{}\"'.format(cutoff))\n",
    ")\n",
    "test_df.show()"
   ]
  },
  {
   "cell_type": "code",
   "execution_count": 17,
   "id": "6462c6cb",
   "metadata": {},
   "outputs": [
    {
     "name": "stdout",
     "output_type": "stream",
     "text": [
      "+----------+------------------+------------------+------------------+\n",
      "|        ds|              yhat|            y_test|                AE|\n",
      "+----------+------------------+------------------+------------------+\n",
      "|2009-12-02|2013.0072510130535| 2345.667999999997| 332.6607489869434|\n",
      "|2009-12-03|1826.0035000376397|1479.6880000000006|346.31550003763914|\n",
      "|2009-12-04|1944.4264796494003|          1711.294|233.13247964940024|\n",
      "|2009-12-05| 2241.565975240988|          2351.762|110.19602475901229|\n",
      "|2009-12-06| 2198.620180732972|2378.2879999999986|179.66781926702652|\n",
      "|2009-12-07|1823.2991312273134|          1742.638| 80.66113122731349|\n",
      "|2009-12-08| 1948.823449120789|2006.8840000000037| 58.06055087921459|\n",
      "|2009-12-09|1961.8823631516948|1802.3559999999977|159.52636315169707|\n",
      "|2009-12-10|1788.5308196172155|2057.2560000000035|268.72518038278804|\n",
      "|2009-12-11|1922.2696607216133|1784.4619999999998| 137.8076607216135|\n",
      "|2009-12-12|2235.8665600643203|1816.3799999999999|419.48656006432043|\n",
      "|2009-12-13| 2209.972330075237|2138.8139999999953| 71.15833007524179|\n",
      "|2009-12-14|1851.7399853246163| 1794.862000000001| 56.87798532461534|\n",
      "|2009-12-15|1993.8393177574435|1940.1160000000034|  53.7233177574401|\n",
      "|2009-12-16|2022.4305029197494|1394.8740000000007| 627.5565029197487|\n",
      "|2009-12-17| 1863.076123177765|1717.1819999999968|145.89412317776828|\n",
      "|2009-12-18|2008.8351688835064|1744.7059999999983| 264.1291688835081|\n",
      "|2009-12-19|  2332.09632415064| 2204.334000000001|127.76232415063896|\n",
      "|2009-12-20| 2313.204810015334|1144.1659999999993|1169.0388100153345|\n",
      "|2009-12-21|1959.0898776468698|2034.9659999999997| 75.87612235312986|\n",
      "+----------+------------------+------------------+------------------+\n",
      "only showing top 20 rows\n",
      "\n"
     ]
    }
   ],
   "source": [
    "# MAE 오차 값 구하기\n",
    "pred_test_df = global_prediction.join(test_df, on='ds', how='inner')\n",
    "pred_test_df = pred_test_df.sort('ds')\n",
    "pred_test_df = pred_test_df.withColumn('AE', abs(col('yhat') - col('y_test')))\n",
    "pred_test_df.show()"
   ]
  },
  {
   "cell_type": "code",
   "execution_count": 18,
   "id": "d7c9f472",
   "metadata": {},
   "outputs": [],
   "source": [
    "MAE = (\n",
    "    pred_test_df\n",
    "    .groupby()\n",
    "    .agg({\n",
    "        'AE': 'avg'\n",
    "    })\n",
    ")"
   ]
  },
  {
   "cell_type": "code",
   "execution_count": 19,
   "id": "f98a226a",
   "metadata": {},
   "outputs": [
    {
     "data": {
      "text/plain": [
       "270.45979768203534"
      ]
     },
     "execution_count": 19,
     "metadata": {},
     "output_type": "execute_result"
    }
   ],
   "source": [
    "# 기준점 되는 MAE 값 \n",
    "MAE_value = MAE.collect()[0][0]\n",
    "MAE_value"
   ]
  },
  {
   "cell_type": "code",
   "execution_count": 20,
   "id": "71e7aea7",
   "metadata": {},
   "outputs": [
    {
     "data": {
      "text/plain": [
       "(array([131.,  92.,  60.,  40.,  18.,   5.,   5.,   4.,   4.,   1.]),\n",
       " array([   1.63901275,  139.67829544,  277.71757813,  415.75686081,\n",
       "         553.7961435 ,  691.83542619,  829.87470887,  967.91399156,\n",
       "        1105.95327424, 1243.99255693, 1382.03183962]),\n",
       " <BarContainer object of 10 artists>)"
      ]
     },
     "execution_count": 20,
     "metadata": {},
     "output_type": "execute_result"
    },
    {
     "data": {
      "image/png": "[encoded data removed]",
      "text/plain": [
       "<Figure size 432x288 with 1 Axes>"
      ]
     },
     "metadata": {
      "needs_background": "light"
     },
     "output_type": "display_data"
    }
   ],
   "source": [
    "# MAE 분포 확인\n",
    "MAS = pred_test_df.select('AE').collect()\n",
    "AES_MAES = [AE[0] for AE in MAS]\n",
    "plt.hist(AES_MAES)"
   ]
  },
  {
   "cell_type": "code",
   "execution_count": 21,
   "id": "0b60350d",
   "metadata": {},
   "outputs": [],
   "source": [
    "train_df = (\n",
    "    df\n",
    "    .select(col('dt').alias('ds'), col('Global_active_power').alias('y_test'))\n",
    "    .where('dt <= \"{}\"'.format(cutoff))\n",
    ").toPandas()"
   ]
  },
  {
   "cell_type": "code",
   "execution_count": 22,
   "id": "b14ab224",
   "metadata": {},
   "outputs": [],
   "source": [
    "pred_test_df = pred_test_df.toPandas()\n",
    "pred_test_df = pred_test_df.set_index('ds')\n",
    "train_df.index = pd.to_datetime(train_df.index)\n",
    "pred_test_df.index = pd.to_datetime(pred_test_df.index)"
   ]
  },
  {
   "cell_type": "code",
   "execution_count": 23,
   "id": "c661065f",
   "metadata": {
    "scrolled": false
   },
   "outputs": [
    {
     "data": {
      "text/html": [
       "<div>\n",
       "<style scoped>\n",
       "    .dataframe tbody tr th:only-of-type {\n",
       "        vertical-align: middle;\n",
       "    }\n",
       "\n",
       "    .dataframe tbody tr th {\n",
       "        vertical-align: top;\n",
       "    }\n",
       "\n",
       "    .dataframe thead th {\n",
       "        text-align: right;\n",
       "    }\n",
       "</style>\n",
       "<table border=\"1\" class=\"dataframe\">\n",
       "  <thead>\n",
       "    <tr style=\"text-align: right;\">\n",
       "      <th></th>\n",
       "      <th>yhat</th>\n",
       "      <th>y_test</th>\n",
       "      <th>AE</th>\n",
       "      <th>ae_zscore</th>\n",
       "    </tr>\n",
       "    <tr>\n",
       "      <th>ds</th>\n",
       "      <th></th>\n",
       "      <th></th>\n",
       "      <th></th>\n",
       "      <th></th>\n",
       "    </tr>\n",
       "  </thead>\n",
       "  <tbody>\n",
       "    <tr>\n",
       "      <th>2009-12-20</th>\n",
       "      <td>2313.204810</td>\n",
       "      <td>1144.166</td>\n",
       "      <td>1169.038810</td>\n",
       "      <td>3.780170</td>\n",
       "    </tr>\n",
       "    <tr>\n",
       "      <th>2010-01-02</th>\n",
       "      <td>2383.509147</td>\n",
       "      <td>1309.268</td>\n",
       "      <td>1074.241147</td>\n",
       "      <td>3.381372</td>\n",
       "    </tr>\n",
       "    <tr>\n",
       "      <th>2010-03-06</th>\n",
       "      <td>1817.053188</td>\n",
       "      <td>794.712</td>\n",
       "      <td>1022.341188</td>\n",
       "      <td>3.163038</td>\n",
       "    </tr>\n",
       "    <tr>\n",
       "      <th>2010-03-08</th>\n",
       "      <td>1469.002083</td>\n",
       "      <td>2557.098</td>\n",
       "      <td>1088.095917</td>\n",
       "      <td>3.439657</td>\n",
       "    </tr>\n",
       "    <tr>\n",
       "      <th>2010-08-27</th>\n",
       "      <td>888.593571</td>\n",
       "      <td>2030.650</td>\n",
       "      <td>1142.056429</td>\n",
       "      <td>3.666660</td>\n",
       "    </tr>\n",
       "    <tr>\n",
       "      <th>2010-10-18</th>\n",
       "      <td>1484.441856</td>\n",
       "      <td>2713.884</td>\n",
       "      <td>1229.442144</td>\n",
       "      <td>4.034276</td>\n",
       "    </tr>\n",
       "    <tr>\n",
       "      <th>2010-11-04</th>\n",
       "      <td>1375.577692</td>\n",
       "      <td>2555.146</td>\n",
       "      <td>1179.568308</td>\n",
       "      <td>3.824466</td>\n",
       "    </tr>\n",
       "    <tr>\n",
       "      <th>2010-11-21</th>\n",
       "      <td>2282.941840</td>\n",
       "      <td>900.910</td>\n",
       "      <td>1382.031840</td>\n",
       "      <td>4.676195</td>\n",
       "    </tr>\n",
       "  </tbody>\n",
       "</table>\n",
       "</div>"
      ],
      "text/plain": [
       "                   yhat    y_test           AE  ae_zscore\n",
       "ds                                                       \n",
       "2009-12-20  2313.204810  1144.166  1169.038810   3.780170\n",
       "2010-01-02  2383.509147  1309.268  1074.241147   3.381372\n",
       "2010-03-06  1817.053188   794.712  1022.341188   3.163038\n",
       "2010-03-08  1469.002083  2557.098  1088.095917   3.439657\n",
       "2010-08-27   888.593571  2030.650  1142.056429   3.666660\n",
       "2010-10-18  1484.441856  2713.884  1229.442144   4.034276\n",
       "2010-11-04  1375.577692  2555.146  1179.568308   3.824466\n",
       "2010-11-21  2282.941840   900.910  1382.031840   4.676195"
      ]
     },
     "execution_count": 23,
     "metadata": {},
     "output_type": "execute_result"
    }
   ],
   "source": [
    "# z-score 3보다 크면 이상치 \n",
    "pred_test_df['ae_zscore'] = (pred_test_df['AE'] - pred_test_df['AE'].mean()) / pred_test_df['AE'].std()\n",
    "threshold = 3\n",
    "abnormal = pred_test_df[pred_test_df['ae_zscore'] > threshold] \n",
    "abnormal"
   ]
  },
  {
   "cell_type": "code",
   "execution_count": 24,
   "id": "d4a70fb9",
   "metadata": {},
   "outputs": [],
   "source": [
    "train_df = train_df.set_index('ds')"
   ]
  },
  {
   "cell_type": "code",
   "execution_count": 25,
   "id": "21beb09c",
   "metadata": {},
   "outputs": [],
   "source": [
    "train_df.index = pd.to_datetime(train_df.index)"
   ]
  },
  {
   "cell_type": "code",
   "execution_count": 26,
   "id": "77aa927d",
   "metadata": {},
   "outputs": [
    {
     "data": {
      "text/plain": [
       "Text(0.5, 0.98, 'Forecast - Results | Test MAE = 270.4598')"
      ]
     },
     "execution_count": 26,
     "metadata": {},
     "output_type": "execute_result"
    },
    {
     "data": {
      "image/png": "[encoded data removed]",
      "text/plain": [
       "<Figure size 1440x288 with 1 Axes>"
      ]
     },
     "metadata": {
      "needs_background": "light"
     },
     "output_type": "display_data"
    }
   ],
   "source": [
    "# 시각화\n",
    "fig, axes = plt.subplots(ncols=1, figsize=(20, 4))\n",
    "train_df.plot(ax=axes, label='Train_set')\n",
    "pred_test_df['y_test'].plot(ax=axes, label='Test_Set')\n",
    "pred_test_df['yhat'].plot(ax=axes, label='Prediction')\n",
    "abnormal['y_test'].plot(ax=axes, style='r*', label='Abnormal_Sample')\n",
    "axes.set_ylim(0, 5000)\n",
    "axes.fill_between(x=pred_test_df.index, \n",
    "                     y1=0, y2=5000,\n",
    "                     color='grey', alpha=.5)\n",
    "plt.legend()\n",
    "fig.suptitle('Forecast - Results | Test MAE = {:.4f}'.format(MAE_value), fontsize=14)"
   ]
  },
  {
   "cell_type": "code",
   "execution_count": null,
   "id": "12981f6f",
   "metadata": {},
   "outputs": [],
   "source": []
  }
 ],
 "metadata": {
  "kernelspec": {
   "display_name": "Python 3",
   "language": "python",
   "name": "python3"
  },
  "language_info": {
   "codemirror_mode": {
    "name": "ipython",
    "version": 3
   },
   "file_extension": ".py",
   "mimetype": "text/x-python",
   "name": "python",
   "nbconvert_exporter": "python",
   "pygments_lexer": "ipython3",
   "version": "3.8.8"
  }
 },
 "nbformat": 4,
 "nbformat_minor": 5
}
